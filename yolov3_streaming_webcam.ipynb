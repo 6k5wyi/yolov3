{
  "nbformat": 4,
  "nbformat_minor": 0,
  "metadata": {
    "colab": {
      "name": "22yolov3_streaming_webcam.ipynb",
      "provenance": [],
      "collapsed_sections": [],
      "include_colab_link": true
    },
    "kernelspec": {
      "name": "python3",
      "display_name": "Python 3"
    },
    "accelerator": "GPU"
  },
  "cells": [
    {
      "cell_type": "markdown",
      "metadata": {
        "id": "view-in-github",
        "colab_type": "text"
      },
      "source": [
        "<a href=\"https://colab.research.google.com/github/6k5wyi/yolov3/blob/main/yolov3_streaming_webcam.ipynb\" target=\"_parent\"><img src=\"https://colab.research.google.com/assets/colab-badge.svg\" alt=\"Open In Colab\"/></a>"
      ]
    },
    {
      "cell_type": "markdown",
      "metadata": {
        "id": "h0Yqq8KrpRvH"
      },
      "source": [
        "사용법:\n",
        "\n",
        "* 이 박스를 클릭하세요.\n",
        "* 모든 박스에서 Shift + Enter 를 누르세요.\n",
        "* 웹캠 캡쳐를 멈추고 싶다면, 빨간색 텍스트나 사진을 클릭하세요 "
      ]
    },
    {
      "cell_type": "markdown",
      "metadata": {
        "id": "rex6xev5qP-G"
      },
      "source": [
        "# 자바스크립트 와 웹캠 함수 정의하기"
      ]
    },
    {
      "cell_type": "code",
      "metadata": {
        "id": "7OYmjeF-edKE"
      },
      "source": [
        "import base64\n",
        "import html\n",
        "import io\n",
        "import time\n",
        " \n",
        "from IPython.display import display, Javascript\n",
        "from google.colab.output import eval_js\n",
        "import numpy as np\n",
        "from PIL import Image\n",
        "import cv2\n",
        " \n",
        "def start_input():\n",
        "  js = Javascript('''\n",
        "    var video;\n",
        "    var div = null;\n",
        "    var stream;\n",
        "    var captureCanvas;\n",
        "    var imgElement;\n",
        "    var labelElement;\n",
        "    \n",
        "    var pendingResolve = null;\n",
        "    var shutdown = false;\n",
        "    \n",
        "    function removeDom() {\n",
        "       stream.getVideoTracks()[0].stop();\n",
        "       video.remove();\n",
        "       div.remove();\n",
        "       video = null;\n",
        "       div = null;\n",
        "       stream = null;\n",
        "       imgElement = null;\n",
        "       captureCanvas = null;\n",
        "       labelElement = null;\n",
        "    }\n",
        "    \n",
        "    function onAnimationFrame() {\n",
        "      if (!shutdown) {\n",
        "        window.requestAnimationFrame(onAnimationFrame);\n",
        "      }\n",
        "      if (pendingResolve) {\n",
        "        var result = \"\";\n",
        "        if (!shutdown) {\n",
        "          captureCanvas.getContext('2d').drawImage(video, 0, 0, 512, 512);\n",
        "          result = captureCanvas.toDataURL('image/jpeg', 0.8)\n",
        "        }\n",
        "        var lp = pendingResolve;\n",
        "        pendingResolve = null;\n",
        "        lp(result);\n",
        "      }\n",
        "    }\n",
        "    \n",
        "    async function createDom() {\n",
        "      if (div !== null) {\n",
        "        return stream;\n",
        "      }\n",
        " \n",
        "      div = document.createElement('div');\n",
        "      div.style.border = '2px solid black';\n",
        "      div.style.padding = '3px';\n",
        "      div.style.width = '100%';\n",
        "      div.style.maxWidth = '600px';\n",
        "      document.body.appendChild(div);\n",
        "      \n",
        "      const modelOut = document.createElement('div');\n",
        "      modelOut.innerHTML = \"<span>Status:</span>\";\n",
        "      labelElement = document.createElement('span');\n",
        "      labelElement.innerText = 'No data';\n",
        "      labelElement.style.fontWeight = 'bold';\n",
        "      modelOut.appendChild(labelElement);\n",
        "      div.appendChild(modelOut);\n",
        "           \n",
        "      video = document.createElement('video');\n",
        "      video.style.display = 'block';\n",
        "      video.width = div.clientWidth - 6;\n",
        "      video.setAttribute('playsinline', '');\n",
        "      video.onclick = () => { shutdown = true; };\n",
        "      stream = await navigator.mediaDevices.getUserMedia(\n",
        "          {video: { facingMode: \"environment\"}});\n",
        "      div.appendChild(video);\n",
        " \n",
        "      imgElement = document.createElement('img');\n",
        "      imgElement.style.position = 'absolute';\n",
        "      imgElement.style.zIndex = 1;\n",
        "      imgElement.onclick = () => { shutdown = true; };\n",
        "      div.appendChild(imgElement);\n",
        "      \n",
        "      const instruction = document.createElement('div');\n",
        "      instruction.innerHTML = \n",
        "          '<span style=\"color: red; font-weight: bold;\">' +\n",
        "          'When finished, click here or on the video to stop this demo</span>';\n",
        "      div.appendChild(instruction);\n",
        "      instruction.onclick = () => { shutdown = true; };\n",
        "      \n",
        "      video.srcObject = stream;\n",
        "      await video.play();\n",
        " \n",
        "      captureCanvas = document.createElement('canvas');\n",
        "      captureCanvas.width = 512; //video.videoWidth;\n",
        "      captureCanvas.height = 512; //video.videoHeight;\n",
        "      window.requestAnimationFrame(onAnimationFrame);\n",
        "      \n",
        "      return stream;\n",
        "    }\n",
        "    async function takePhoto(label, imgData) {\n",
        "      if (shutdown) {\n",
        "        removeDom();\n",
        "        shutdown = false;\n",
        "        return '';\n",
        "      }\n",
        " \n",
        "      var preCreate = Date.now();\n",
        "      stream = await createDom();\n",
        "      \n",
        "      var preShow = Date.now();\n",
        "      if (label != \"\") {\n",
        "        labelElement.innerHTML = label;\n",
        "      }\n",
        "            \n",
        "      if (imgData != \"\") {\n",
        "        var videoRect = video.getClientRects()[0];\n",
        "        imgElement.style.top = videoRect.top + \"px\";\n",
        "        imgElement.style.left = videoRect.left + \"px\";\n",
        "        imgElement.style.width = videoRect.width + \"px\";\n",
        "        imgElement.style.height = videoRect.height + \"px\";\n",
        "        imgElement.src = imgData;\n",
        "      }\n",
        "      \n",
        "      var preCapture = Date.now();\n",
        "      var result = await new Promise(function(resolve, reject) {\n",
        "        pendingResolve = resolve;\n",
        "      });\n",
        "      shutdown = false;\n",
        "      \n",
        "      return {'create': preShow - preCreate, \n",
        "              'show': preCapture - preShow, \n",
        "              'capture': Date.now() - preCapture,\n",
        "              'img': result};\n",
        "    }\n",
        "    ''')\n",
        " \n",
        "  display(js)\n",
        "  \n",
        "def take_photo(label, img_data):\n",
        "  data = eval_js('takePhoto(\"{}\", \"{}\")'.format(label, img_data))\n",
        "  return data"
      ],
      "execution_count": null,
      "outputs": []
    },
    {
      "cell_type": "markdown",
      "metadata": {
        "id": "pIhvoWJxqDNx"
      },
      "source": [
        "# Yolov3 복사하고, 드로잉 함수 실행하기"
      ]
    },
    {
      "cell_type": "markdown",
      "metadata": {
        "id": "jti4KXdUON6e"
      },
      "source": [
        "## 1. 구글 드라이브에서 장착하기\n",
        "\n",
        "https://docs.google.com/uc?id=1PTj1hm-PMa8j-AVPVifachdXVvaK6SS9&export=download 에서 다운 받은 파일을 압축을 풀고, \n",
        "\n",
        "자신의 구글 드라이브에 넣고, 다음 코드를 실행하여 드라이브에 잘 장착되었는지 확인한다. "
      ]
    },
    {
      "cell_type": "code",
      "metadata": {
        "id": "vZ2tG-8ZKtDd",
        "colab": {
          "base_uri": "https://localhost:8080/"
        },
        "outputId": "5ed09585-02b7-4510-d30c-2685e56f67b8"
      },
      "source": [
        "from google.colab import drive\n",
        "drive.mount('/content/drive')"
      ],
      "execution_count": null,
      "outputs": [
        {
          "output_type": "stream",
          "text": [
            "Mounted at /content/drive\n"
          ],
          "name": "stdout"
        }
      ]
    },
    {
      "cell_type": "markdown",
      "metadata": {
        "id": "2gSvyijqOTLf"
      },
      "source": [
        "## 2. yolov3가 있는 디렉토리로 이동"
      ]
    },
    {
      "cell_type": "code",
      "metadata": {
        "id": "W4kmYUlTIRAD",
        "colab": {
          "base_uri": "https://localhost:8080/"
        },
        "outputId": "63c59adc-c641-47c9-a51c-64b86fd1f13c"
      },
      "source": [
        "%cd /content/drive/MyDrive/Colab Notebooks/yolov3"
      ],
      "execution_count": null,
      "outputs": [
        {
          "output_type": "stream",
          "text": [
            "/content/drive/MyDrive/Colab Notebooks/yolov3\n"
          ],
          "name": "stdout"
        }
      ]
    },
    {
      "cell_type": "markdown",
      "metadata": {
        "id": "E6newoP-OcQW"
      },
      "source": [
        "## 3. 디렉토리에 잘 들어왔는지 확인해보기"
      ]
    },
    {
      "cell_type": "code",
      "metadata": {
        "id": "bOkjYYvMImtY",
        "colab": {
          "base_uri": "https://localhost:8080/",
          "height": 52
        },
        "outputId": "48298664-b803-4174-af2c-5845e92685cc"
      },
      "source": [
        "pwd"
      ],
      "execution_count": null,
      "outputs": [
        {
          "output_type": "execute_result",
          "data": {
            "application/vnd.google.colaboratory.intrinsic+json": {
              "type": "string"
            },
            "text/plain": [
              "'/content/drive/MyDrive/Colab Notebooks/yolov3'"
            ]
          },
          "metadata": {
            "tags": []
          },
          "execution_count": 4
        }
      ]
    },
    {
      "cell_type": "code",
      "metadata": {
        "id": "A0ZgJiQBskDt",
        "colab": {
          "base_uri": "https://localhost:8080/"
        },
        "outputId": "7021bd54-6863-4ad7-9a34-8fad6e9998ee"
      },
      "source": [
        "# !git clone -b archive https://github.com/ultralytics/yolov3  # clone\n",
        "# %cd gdrive/My Drive/yolov3\n",
        " \n",
        "import argparse\n",
        "from sys import platform\n",
        " \n",
        "from models import * \n",
        "from utils.datasets import *\n",
        "from utils.utils import *\n",
        " \n",
        "parser = argparse.ArgumentParser()\n",
        "parser.add_argument('--cfg', type=str, default='cfg/yolov3-spp.cfg', help='*.cfg path')\n",
        "parser.add_argument('--names', type=str, default='data/coco.names', help='*.names path')\n",
        "parser.add_argument('--weights', type=str, default='weights/yolov3-spp-ultralytics.pt', help='weights path')\n",
        "parser.add_argument('--img-size', type=int, default=416, help='inference size (pixels)')\n",
        "parser.add_argument('--conf-thres', type=float, default=0.3, help='object confidence threshold')\n",
        "parser.add_argument('--iou-thres', type=float, default=0.6, help='IOU threshold for NMS')\n",
        "parser.add_argument('--classes', nargs='+', type=int, help='filter by class')\n",
        "parser.add_argument('--agnostic-nms', action='store_true', help='class-agnostic NMS')\n",
        "opt = parser.parse_args(args = [])\n",
        " \n",
        "# Initialize\n",
        "device = 'cuda:0' if torch.cuda.is_available() else 'cpu'\n",
        " \n",
        "# Initialize model\n",
        "model = Darknet(opt.cfg, opt.img_size)\n",
        " \n",
        "# Load weights\n",
        "attempt_download(opt.weights)\n",
        "if opt.weights.endswith('.pt'):  # pytorch format\n",
        "    model.load_state_dict(torch.load(opt.weights, map_location=device)['model'])\n",
        "else:  # darknet format\n",
        "    load_darknet_weights(model, opt.weights)\n",
        " \n",
        "model.to(device).eval();\n",
        " \n",
        "# Get names and colors\n",
        "names = load_classes(opt.names)\n",
        "colors = [[random.randint(0, 255) for _ in range(3)] for _ in range(len(names))]\n",
        " \n",
        " \n",
        "def js_reply_to_image(js_reply):\n",
        "    \"\"\"\n",
        "    input: \n",
        "          js_reply: JavaScript object, contain image from webcam\n",
        " \n",
        "    output: \n",
        "          image_array: image array RGB size 512 x 512 from webcam\n",
        "    \"\"\"\n",
        "    jpeg_bytes = base64.b64decode(js_reply['img'].split(',')[1])\n",
        "    image_PIL = Image.open(io.BytesIO(jpeg_bytes))\n",
        "    image_array = np.array(image_PIL)\n",
        " \n",
        "    return image_array\n",
        " \n",
        "def get_drawing_array(image_array): \n",
        "    \"\"\"\n",
        "    input: \n",
        "          image_array: image array RGB size 512 x 512 from webcam\n",
        " \n",
        "    output: \n",
        "          drawing_array: image RGBA size 512 x 512 only contain bounding box and text, \n",
        "                              channel A value = 255 if the pixel contains drawing properties (lines, text) \n",
        "                              else channel A value = 0\n",
        "    \"\"\"\n",
        "    drawing_array = np.zeros([512,512,4], dtype=np.uint8)\n",
        "    img = letterbox(image_array, new_shape=opt.img_size)[0]\n",
        " \n",
        "    img = img.transpose(2, 0, 1)\n",
        "    img = np.ascontiguousarray(img)\n",
        " \n",
        "    img = torch.from_numpy(img).to(device)\n",
        "    img = img.float()  # uint8 to fp16/32\n",
        "    img /= 255.0  # (0 - 255) to (0.0 - 1.0)\n",
        "    if img.ndimension() == 3:\n",
        "        img = img.unsqueeze(0)\n",
        " \n",
        "    pred = model(img)[0]\n",
        "    # Apply NMS\n",
        "    pred = non_max_suppression(pred, opt.conf_thres, opt.iou_thres, classes=opt.classes, agnostic=opt.agnostic_nms)\n",
        " \n",
        "    # Process detections\n",
        "    det = pred[0]\n",
        "    if det is not None and len(det):\n",
        "        det[:, :4] = scale_coords(img.shape[2:], det[:, :4], image_array.shape).round()\n",
        " \n",
        "        # Write results\n",
        "        for *xyxy, conf, cls in det:\n",
        "            label = '%s %.2f' % (names[int(cls)], conf)\n",
        "            plot_one_box(xyxy, drawing_array, label=label, color=colors[int(cls)])\n",
        " \n",
        "    drawing_array[:,:,3] = (drawing_array.max(axis = 2) > 0 ).astype(int) * 255\n",
        " \n",
        "    return drawing_array\n",
        " \n",
        "def drawing_array_to_bytes(drawing_array):\n",
        "    \"\"\"\n",
        "    input: \n",
        "          drawing_array: image RGBA size 512 x 512 \n",
        "                              contain bounding box and text from yolo prediction, \n",
        "                              channel A value = 255 if the pixel contains drawing properties (lines, text) \n",
        "                              else channel A value = 0\n",
        " \n",
        "    output: \n",
        "          drawing_bytes: string, encoded from drawing_array\n",
        "    \"\"\"\n",
        " \n",
        "    drawing_PIL = Image.fromarray(drawing_array, 'RGBA')\n",
        "    iobuf = io.BytesIO()\n",
        "    drawing_PIL.save(iobuf, format='png')\n",
        "    drawing_bytes = 'data:image/png;base64,{}'.format((str(base64.b64encode(iobuf.getvalue()), 'utf-8')))\n",
        "    return drawing_bytes"
      ],
      "execution_count": null,
      "outputs": [
        {
          "output_type": "stream",
          "text": [
            "Model Summary: 225 layers, 6.29987e+07 parameters, 6.29987e+07 gradients\n"
          ],
          "name": "stdout"
        }
      ]
    },
    {
      "cell_type": "markdown",
      "metadata": {
        "id": "iIlKEQ3ruDCw"
      },
      "source": [
        "# 웹캠으로 시도해보기"
      ]
    },
    {
      "cell_type": "code",
      "metadata": {
        "id": "hZi6NXSDyAY6",
        "colab": {
          "base_uri": "https://localhost:8080/",
          "height": 614
        },
        "outputId": "38572ef1-eda4-44bc-fcdf-30147f337c5a"
      },
      "source": [
        "start_input()\n",
        "label_html = 'Capturing...'\n",
        "img_data = ''\n",
        "count = 0 \n",
        "while True:\n",
        "    js_reply = take_photo(label_html, img_data)\n",
        "    if not js_reply:\n",
        "        break\n",
        " \n",
        "    image = js_reply_to_image(js_reply)\n",
        "    drawing_array = get_drawing_array(image) \n",
        "    drawing_bytes = drawing_array_to_bytes(drawing_array)\n",
        "    img_data = drawing_bytes"
      ],
      "execution_count": null,
      "outputs": [
        {
          "output_type": "display_data",
          "data": {
            "application/javascript": [
              "\n",
              "    var video;\n",
              "    var div = null;\n",
              "    var stream;\n",
              "    var captureCanvas;\n",
              "    var imgElement;\n",
              "    var labelElement;\n",
              "    \n",
              "    var pendingResolve = null;\n",
              "    var shutdown = false;\n",
              "    \n",
              "    function removeDom() {\n",
              "       stream.getVideoTracks()[0].stop();\n",
              "       video.remove();\n",
              "       div.remove();\n",
              "       video = null;\n",
              "       div = null;\n",
              "       stream = null;\n",
              "       imgElement = null;\n",
              "       captureCanvas = null;\n",
              "       labelElement = null;\n",
              "    }\n",
              "    \n",
              "    function onAnimationFrame() {\n",
              "      if (!shutdown) {\n",
              "        window.requestAnimationFrame(onAnimationFrame);\n",
              "      }\n",
              "      if (pendingResolve) {\n",
              "        var result = \"\";\n",
              "        if (!shutdown) {\n",
              "          captureCanvas.getContext('2d').drawImage(video, 0, 0, 512, 512);\n",
              "          result = captureCanvas.toDataURL('image/jpeg', 0.8)\n",
              "        }\n",
              "        var lp = pendingResolve;\n",
              "        pendingResolve = null;\n",
              "        lp(result);\n",
              "      }\n",
              "    }\n",
              "    \n",
              "    async function createDom() {\n",
              "      if (div !== null) {\n",
              "        return stream;\n",
              "      }\n",
              " \n",
              "      div = document.createElement('div');\n",
              "      div.style.border = '2px solid black';\n",
              "      div.style.padding = '3px';\n",
              "      div.style.width = '100%';\n",
              "      div.style.maxWidth = '600px';\n",
              "      document.body.appendChild(div);\n",
              "      \n",
              "      const modelOut = document.createElement('div');\n",
              "      modelOut.innerHTML = \"<span>Status:</span>\";\n",
              "      labelElement = document.createElement('span');\n",
              "      labelElement.innerText = 'No data';\n",
              "      labelElement.style.fontWeight = 'bold';\n",
              "      modelOut.appendChild(labelElement);\n",
              "      div.appendChild(modelOut);\n",
              "           \n",
              "      video = document.createElement('video');\n",
              "      video.style.display = 'block';\n",
              "      video.width = div.clientWidth - 6;\n",
              "      video.setAttribute('playsinline', '');\n",
              "      video.onclick = () => { shutdown = true; };\n",
              "      stream = await navigator.mediaDevices.getUserMedia(\n",
              "          {video: { facingMode: \"environment\"}});\n",
              "      div.appendChild(video);\n",
              " \n",
              "      imgElement = document.createElement('img');\n",
              "      imgElement.style.position = 'absolute';\n",
              "      imgElement.style.zIndex = 1;\n",
              "      imgElement.onclick = () => { shutdown = true; };\n",
              "      div.appendChild(imgElement);\n",
              "      \n",
              "      const instruction = document.createElement('div');\n",
              "      instruction.innerHTML = \n",
              "          '<span style=\"color: red; font-weight: bold;\">' +\n",
              "          'When finished, click here or on the video to stop this demo</span>';\n",
              "      div.appendChild(instruction);\n",
              "      instruction.onclick = () => { shutdown = true; };\n",
              "      \n",
              "      video.srcObject = stream;\n",
              "      await video.play();\n",
              " \n",
              "      captureCanvas = document.createElement('canvas');\n",
              "      captureCanvas.width = 512; //video.videoWidth;\n",
              "      captureCanvas.height = 512; //video.videoHeight;\n",
              "      window.requestAnimationFrame(onAnimationFrame);\n",
              "      \n",
              "      return stream;\n",
              "    }\n",
              "    async function takePhoto(label, imgData) {\n",
              "      if (shutdown) {\n",
              "        removeDom();\n",
              "        shutdown = false;\n",
              "        return '';\n",
              "      }\n",
              " \n",
              "      var preCreate = Date.now();\n",
              "      stream = await createDom();\n",
              "      \n",
              "      var preShow = Date.now();\n",
              "      if (label != \"\") {\n",
              "        labelElement.innerHTML = label;\n",
              "      }\n",
              "            \n",
              "      if (imgData != \"\") {\n",
              "        var videoRect = video.getClientRects()[0];\n",
              "        imgElement.style.top = videoRect.top + \"px\";\n",
              "        imgElement.style.left = videoRect.left + \"px\";\n",
              "        imgElement.style.width = videoRect.width + \"px\";\n",
              "        imgElement.style.height = videoRect.height + \"px\";\n",
              "        imgElement.src = imgData;\n",
              "      }\n",
              "      \n",
              "      var preCapture = Date.now();\n",
              "      var result = await new Promise(function(resolve, reject) {\n",
              "        pendingResolve = resolve;\n",
              "      });\n",
              "      shutdown = false;\n",
              "      \n",
              "      return {'create': preShow - preCreate, \n",
              "              'show': preCapture - preShow, \n",
              "              'capture': Date.now() - preCapture,\n",
              "              'img': result};\n",
              "    }\n",
              "    "
            ],
            "text/plain": [
              "<IPython.core.display.Javascript object>"
            ]
          },
          "metadata": {
            "tags": []
          }
        },
        {
          "output_type": "stream",
          "text": [
            "/content/drive/MyDrive/Colab Notebooks/yolov3/utils/utils.py:512: UserWarning: This overload of nonzero is deprecated:\n",
            "\tnonzero()\n",
            "Consider using one of the following signatures instead:\n",
            "\tnonzero(*, bool as_tuple) (Triggered internally at  /pytorch/torch/csrc/utils/python_arg_parser.cpp:882.)\n",
            "  i, j = (x[:, 5:] > conf_thres).nonzero().t()\n"
          ],
          "name": "stderr"
        }
      ]
    },
    {
      "cell_type": "markdown",
      "metadata": {
        "id": "--5V5bcxqDAZ"
      },
      "source": [
        "첫 번째 시도가 이미지를 로드하지 못할 수 있음\n",
        "\n",
        "빨간색 텍스트를 두 번 클릭하고 마지막 상자를 다시 실행하십시오 (Shift+Enter).\n",
        "\n",
        "웹캠 캡처를 중지하려면 빨간색 텍스트 또는 사진을 클릭하십시오."
      ]
    },
    {
      "cell_type": "markdown",
      "metadata": {
        "id": "tGnqD7zQoG_F"
      },
      "source": [
        "Source: \n",
        "\n",
        "* https://github.com/ultralytics/yolov3\n",
        "* https://learn.adafruit.com/tensorflow-in-your-browser-object-detection-with-bounding-boxes?view=all\n",
        "* https://towardsdatascience.com/yolov3-pytorch-streaming-on-google-colab-16f4fe72e7b"
      ]
    }
  ]
}